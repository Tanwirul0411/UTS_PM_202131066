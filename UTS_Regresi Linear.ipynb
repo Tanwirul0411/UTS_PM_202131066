{
 "cells": [
  {
   "cell_type": "markdown",
   "id": "ce199f02",
   "metadata": {},
   "source": [
    "# 202131066_Mohamad Tanwirul Akbar"
   ]
  },
  {
   "cell_type": "markdown",
   "id": "8a3031a4",
   "metadata": {},
   "source": [
    "# Regresi Linear"
   ]
  },
  {
   "cell_type": "code",
   "execution_count": 1,
   "id": "2191d77e",
   "metadata": {},
   "outputs": [],
   "source": [
    "# Melakukan Import library pandas sebagai pd untuk mengolah data dengan format .csv\n",
    "import pandas as pd"
   ]
  },
  {
   "cell_type": "code",
   "execution_count": 2,
   "id": "fc0f3eca",
   "metadata": {},
   "outputs": [],
   "source": [
    "# Simpan nilai data file .csv pada Variabel datauts\n",
    "datauts = pd.read_csv('R04_corruptions.csv')"
   ]
  },
  {
   "cell_type": "code",
   "execution_count": 3,
   "id": "475689ab",
   "metadata": {},
   "outputs": [
    {
     "data": {
      "text/html": [
       "<div>\n",
       "<style scoped>\n",
       "    .dataframe tbody tr th:only-of-type {\n",
       "        vertical-align: middle;\n",
       "    }\n",
       "\n",
       "    .dataframe tbody tr th {\n",
       "        vertical-align: top;\n",
       "    }\n",
       "\n",
       "    .dataframe thead th {\n",
       "        text-align: right;\n",
       "    }\n",
       "</style>\n",
       "<table border=\"1\" class=\"dataframe\">\n",
       "  <thead>\n",
       "    <tr style=\"text-align: right;\">\n",
       "      <th></th>\n",
       "      <th>Corruption Perception (X)</th>\n",
       "      <th>Government Transparency (Y)</th>\n",
       "    </tr>\n",
       "  </thead>\n",
       "  <tbody>\n",
       "    <tr>\n",
       "      <th>0</th>\n",
       "      <td>3.2</td>\n",
       "      <td>65</td>\n",
       "    </tr>\n",
       "    <tr>\n",
       "      <th>1</th>\n",
       "      <td>2.5</td>\n",
       "      <td>72</td>\n",
       "    </tr>\n",
       "    <tr>\n",
       "      <th>2</th>\n",
       "      <td>4.1</td>\n",
       "      <td>58</td>\n",
       "    </tr>\n",
       "    <tr>\n",
       "      <th>3</th>\n",
       "      <td>2.8</td>\n",
       "      <td>68</td>\n",
       "    </tr>\n",
       "    <tr>\n",
       "      <th>4</th>\n",
       "      <td>3.5</td>\n",
       "      <td>60</td>\n",
       "    </tr>\n",
       "  </tbody>\n",
       "</table>\n",
       "</div>"
      ],
      "text/plain": [
       "   Corruption Perception (X)  Government Transparency (Y)\n",
       "0                        3.2                           65\n",
       "1                        2.5                           72\n",
       "2                        4.1                           58\n",
       "3                        2.8                           68\n",
       "4                        3.5                           60"
      ]
     },
     "execution_count": 3,
     "metadata": {},
     "output_type": "execute_result"
    }
   ],
   "source": [
    "# menampilkan 5 data teratas pada file .csv\n",
    "datauts.head()"
   ]
  },
  {
   "cell_type": "code",
   "execution_count": 4,
   "id": "279a1fd9",
   "metadata": {},
   "outputs": [
    {
     "name": "stdout",
     "output_type": "stream",
     "text": [
      "<class 'pandas.core.frame.DataFrame'>\n",
      "RangeIndex: 55 entries, 0 to 54\n",
      "Data columns (total 2 columns):\n",
      " #   Column                       Non-Null Count  Dtype  \n",
      "---  ------                       --------------  -----  \n",
      " 0   Corruption Perception (X)    55 non-null     float64\n",
      " 1   Government Transparency (Y)  55 non-null     int64  \n",
      "dtypes: float64(1), int64(1)\n",
      "memory usage: 1008.0 bytes\n"
     ]
    }
   ],
   "source": [
    "# untuk menampilkan informasi pada kolom agar dapat dilanjutkan ke Split dan Train Data \n",
    "datauts.info()"
   ]
  },
  {
   "cell_type": "markdown",
   "id": "2ee8496a",
   "metadata": {},
   "source": [
    "## Split Data"
   ]
  },
  {
   "cell_type": "code",
   "execution_count": 5,
   "id": "ae940ba0",
   "metadata": {},
   "outputs": [],
   "source": [
    "import numpy as np\n",
    "# data transparansi pemerintahan\n",
    "x_train = datauts['Corruption Perception (X)'].values[:, np.newaxis]\n",
    "y_train = datauts['Government Transparency (Y)'].values"
   ]
  },
  {
   "cell_type": "markdown",
   "id": "ada83467",
   "metadata": {},
   "source": [
    "## Modelling"
   ]
  },
  {
   "cell_type": "code",
   "execution_count": 6,
   "id": "833f8569",
   "metadata": {},
   "outputs": [
    {
     "data": {
      "text/plain": [
       "LinearRegression()"
      ]
     },
     "execution_count": 6,
     "metadata": {},
     "output_type": "execute_result"
    }
   ],
   "source": [
    "from sklearn.linear_model import LinearRegression\n",
    "modelLR = LinearRegression()\n",
    "modelLR.fit(x_train, y_train)"
   ]
  },
  {
   "cell_type": "markdown",
   "id": "3548e644",
   "metadata": {},
   "source": [
    "## Koefisien dan Intercept"
   ]
  },
  {
   "cell_type": "code",
   "execution_count": 7,
   "id": "69de36d2",
   "metadata": {},
   "outputs": [
    {
     "name": "stdout",
     "output_type": "stream",
     "text": [
      "Koefisien :  [-10.92328395]\n",
      "Intercept :  100.27173366009497\n"
     ]
    }
   ],
   "source": [
    "# Rumus Regresi -> y = ax + b (a = koefisien, b = intercept)\n",
    "print(\"Koefisien : \", modelLR.coef_)\n",
    "print(\"Intercept : \", modelLR.intercept_)"
   ]
  },
  {
   "cell_type": "code",
   "execution_count": 8,
   "id": "6fe3314b",
   "metadata": {},
   "outputs": [
    {
     "name": "stdout",
     "output_type": "stream",
     "text": [
      "[62.04023982]\n"
     ]
    }
   ],
   "source": [
    "# testing rumus\n",
    "y = modelLR.coef_ * 3.5 + modelLR.intercept_\n",
    "print(y)"
   ]
  },
  {
   "cell_type": "code",
   "execution_count": 9,
   "id": "f9bf1808",
   "metadata": {},
   "outputs": [
    {
     "name": "stdout",
     "output_type": "stream",
     "text": [
      "Akurasi Model Data :84.65157166961687\n"
     ]
    }
   ],
   "source": [
    "print(\"Akurasi Model Data :{}\".format(modelLR.score(x_train,y_train)*100))"
   ]
  },
  {
   "cell_type": "markdown",
   "id": "027bf153",
   "metadata": {},
   "source": [
    "## Testing"
   ]
  },
  {
   "cell_type": "code",
   "execution_count": 10,
   "id": "1cd4afba",
   "metadata": {},
   "outputs": [
    {
     "name": "stdout",
     "output_type": "stream",
     "text": [
      "Prediksi Transparansi Pemerintahan :  [87.16379291 62.04023982]\n"
     ]
    }
   ],
   "source": [
    "x_train_test = [[1.2],[3.5]]\n",
    "pred_GovTransparency = modelLR.predict(x_train_test)\n",
    "print(\"Prediksi Transparansi Pemerintahan : \", pred_GovTransparency)"
   ]
  },
  {
   "cell_type": "markdown",
   "id": "564c3488",
   "metadata": {},
   "source": [
    "## Visualisasi"
   ]
  },
  {
   "cell_type": "code",
   "execution_count": 11,
   "id": "3b609190",
   "metadata": {},
   "outputs": [
    {
     "ename": "NameError",
     "evalue": "name 'modelL' is not defined",
     "output_type": "error",
     "traceback": [
      "\u001b[1;31m---------------------------------------------------------------------------\u001b[0m",
      "\u001b[1;31mNameError\u001b[0m                                 Traceback (most recent call last)",
      "\u001b[1;32mC:\\Users\\Public\\Documents\\Wondershare\\CreatorTemp\\ipykernel_1052\\110923714.py\u001b[0m in \u001b[0;36m<module>\u001b[1;34m\u001b[0m\n\u001b[0;32m      1\u001b[0m \u001b[1;32mimport\u001b[0m \u001b[0mmatplotlib\u001b[0m\u001b[1;33m.\u001b[0m\u001b[0mpyplot\u001b[0m \u001b[1;32mas\u001b[0m \u001b[0mplt\u001b[0m\u001b[1;33m\u001b[0m\u001b[1;33m\u001b[0m\u001b[0m\n\u001b[0;32m      2\u001b[0m \u001b[1;33m\u001b[0m\u001b[0m\n\u001b[1;32m----> 3\u001b[1;33m \u001b[0mprediksi_transparansi\u001b[0m \u001b[1;33m=\u001b[0m \u001b[0mmodelL\u001b[0m\u001b[1;33m.\u001b[0m\u001b[0mpredict\u001b[0m\u001b[1;33m(\u001b[0m\u001b[0mx_train\u001b[0m\u001b[1;33m)\u001b[0m\u001b[1;33m\u001b[0m\u001b[1;33m\u001b[0m\u001b[0m\n\u001b[0m\u001b[0;32m      4\u001b[0m \u001b[0mdataframe_baru\u001b[0m \u001b[1;33m=\u001b[0m \u001b[0mpd\u001b[0m\u001b[1;33m.\u001b[0m\u001b[0mDataFrame\u001b[0m\u001b[1;33m(\u001b[0m\u001b[1;33m{\u001b[0m\u001b[1;34m'Korupsi'\u001b[0m\u001b[1;33m:\u001b[0m \u001b[0mdatauts\u001b[0m\u001b[1;33m[\u001b[0m\u001b[1;34m'Corruption Perception (X)'\u001b[0m\u001b[1;33m]\u001b[0m\u001b[1;33m,\u001b[0m \u001b[1;34m'Transparansi'\u001b[0m\u001b[1;33m:\u001b[0m \u001b[0mprediksi_transparansi\u001b[0m\u001b[1;33m}\u001b[0m\u001b[1;33m)\u001b[0m\u001b[1;33m\u001b[0m\u001b[1;33m\u001b[0m\u001b[0m\n\u001b[0;32m      5\u001b[0m \u001b[0mplt\u001b[0m\u001b[1;33m.\u001b[0m\u001b[0mscatter\u001b[0m\u001b[1;33m(\u001b[0m\u001b[0mdatauts\u001b[0m\u001b[1;33m[\u001b[0m\u001b[1;34m'Corruption Perception (X)'\u001b[0m\u001b[1;33m]\u001b[0m\u001b[1;33m,\u001b[0m \u001b[0mdatauts\u001b[0m\u001b[1;33m[\u001b[0m\u001b[1;34m'Government Transparency (Y)'\u001b[0m\u001b[1;33m]\u001b[0m\u001b[1;33m,\u001b[0m \u001b[0mcolor\u001b[0m\u001b[1;33m=\u001b[0m\u001b[1;34m\"blue\"\u001b[0m\u001b[1;33m,\u001b[0m \u001b[0mlabel\u001b[0m\u001b[1;33m=\u001b[0m\u001b[1;34m'Data Asli'\u001b[0m\u001b[1;33m)\u001b[0m\u001b[1;33m\u001b[0m\u001b[1;33m\u001b[0m\u001b[0m\n",
      "\u001b[1;31mNameError\u001b[0m: name 'modelL' is not defined"
     ]
    }
   ],
   "source": [
    "import matplotlib.pyplot as plt\n",
    "\n",
    "prediksi_transparansi = modelL.predict(x_train)\n",
    "dataframe_baru = pd.DataFrame({'Korupsi': datauts['Corruption Perception (X)'], 'Transparansi': prediksi_transparansi})\n",
    "plt.scatter(datauts['Corruption Perception (X)'], datauts['Government Transparency (Y)'], color=\"blue\", label='Data Asli')\n",
    "plt.plot(dataframe_baru.Korupsi, dataframe_baru.Transparansi, color=\"red\", label='Model Regresi')\n",
    "plt.xlabel('Korupsi')\n",
    "plt.ylabel('Transparansi')\n",
    "plt.title('Visualisasi Regresi Data Korupsi dan Transparansi Pemerintahan')\n",
    "plt.legend()\n",
    "\n",
    "plt.show()"
   ]
  }
 ],
 "metadata": {
  "kernelspec": {
   "display_name": "Python 3 (ipykernel)",
   "language": "python",
   "name": "python3"
  },
  "language_info": {
   "codemirror_mode": {
    "name": "ipython",
    "version": 3
   },
   "file_extension": ".py",
   "mimetype": "text/x-python",
   "name": "python",
   "nbconvert_exporter": "python",
   "pygments_lexer": "ipython3",
   "version": "3.9.13"
  }
 },
 "nbformat": 4,
 "nbformat_minor": 5
}
